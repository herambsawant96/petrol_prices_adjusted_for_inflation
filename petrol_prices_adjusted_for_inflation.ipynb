{
 "cells": [
  {
   "cell_type": "code",
   "execution_count": 1,
   "id": "9c9bd030",
   "metadata": {},
   "outputs": [],
   "source": [
    "import requests\n",
    "from bs4 import BeautifulSoup\n",
    "import pandas as pd\n",
    "import matplotlib.pyplot as plt\n",
    "import numpy as np\n",
    "\n",
    "from pandasql import sqldf"
   ]
  },
  {
   "cell_type": "code",
   "execution_count": 2,
   "id": "166bf875",
   "metadata": {},
   "outputs": [],
   "source": [
    "url='https://www.mycarhelpline.com/index.php?option=com_easyblog&view=entry&id=808&Itemid=91'\n"
   ]
  },
  {
   "cell_type": "code",
   "execution_count": 3,
   "id": "6b749449",
   "metadata": {},
   "outputs": [],
   "source": [
    "page2=pd.read_html(url)"
   ]
  },
  {
   "cell_type": "code",
   "execution_count": 4,
   "id": "fbc3cb64",
   "metadata": {},
   "outputs": [
    {
     "data": {
      "text/html": [
       "<div>\n",
       "<style scoped>\n",
       "    .dataframe tbody tr th:only-of-type {\n",
       "        vertical-align: middle;\n",
       "    }\n",
       "\n",
       "    .dataframe tbody tr th {\n",
       "        vertical-align: top;\n",
       "    }\n",
       "\n",
       "    .dataframe thead th {\n",
       "        text-align: right;\n",
       "    }\n",
       "</style>\n",
       "<table border=\"1\" class=\"dataframe\">\n",
       "  <thead>\n",
       "    <tr style=\"text-align: right;\">\n",
       "      <th></th>\n",
       "      <th>Month Year</th>\n",
       "      <th>Petrol / Litre</th>\n",
       "      <th>Diesel / Litre</th>\n",
       "      <th>Fuel Price Difference / Litre</th>\n",
       "    </tr>\n",
       "  </thead>\n",
       "  <tbody>\n",
       "    <tr>\n",
       "      <th>1</th>\n",
       "      <td>April-03</td>\n",
       "      <td>Rs 33.49</td>\n",
       "      <td>Rs 22.12</td>\n",
       "      <td>Rs 11.37</td>\n",
       "    </tr>\n",
       "    <tr>\n",
       "      <th>2</th>\n",
       "      <td>June-04</td>\n",
       "      <td>Rs 35.71</td>\n",
       "      <td>Rs 22.74</td>\n",
       "      <td>Rs 12.97</td>\n",
       "    </tr>\n",
       "    <tr>\n",
       "      <th>3</th>\n",
       "      <td>April-05</td>\n",
       "      <td>Rs 37.99</td>\n",
       "      <td>Rs 28.22</td>\n",
       "      <td>Rs 9.77</td>\n",
       "    </tr>\n",
       "    <tr>\n",
       "      <th>4</th>\n",
       "      <td>Apr-06</td>\n",
       "      <td>Rs 43.5</td>\n",
       "      <td>Rs 30.45</td>\n",
       "      <td>Rs 13.05</td>\n",
       "    </tr>\n",
       "    <tr>\n",
       "      <th>5</th>\n",
       "      <td>Apr-07</td>\n",
       "      <td>Rs 43</td>\n",
       "      <td>Rs 30.25</td>\n",
       "      <td>Rs 12.75</td>\n",
       "    </tr>\n",
       "  </tbody>\n",
       "</table>\n",
       "</div>"
      ],
      "text/plain": [
       "  Month Year Petrol / Litre Diesel / Litre Fuel Price Difference / Litre\n",
       "1   April-03       Rs 33.49       Rs 22.12                      Rs 11.37\n",
       "2    June-04       Rs 35.71       Rs 22.74                      Rs 12.97\n",
       "3   April-05       Rs 37.99       Rs 28.22                       Rs 9.77\n",
       "4     Apr-06        Rs 43.5       Rs 30.45                      Rs 13.05\n",
       "5     Apr-07          Rs 43       Rs 30.25                      Rs 12.75"
      ]
     },
     "execution_count": 4,
     "metadata": {},
     "output_type": "execute_result"
    }
   ],
   "source": [
    "table=page2[3]\n",
    "table=table.rename(columns=table.iloc[0])\n",
    "table.drop([0],inplace=True)\n",
    "table.head()"
   ]
  },
  {
   "cell_type": "code",
   "execution_count": 5,
   "id": "f980052b",
   "metadata": {},
   "outputs": [
    {
     "data": {
      "text/html": [
       "<div>\n",
       "<style scoped>\n",
       "    .dataframe tbody tr th:only-of-type {\n",
       "        vertical-align: middle;\n",
       "    }\n",
       "\n",
       "    .dataframe tbody tr th {\n",
       "        vertical-align: top;\n",
       "    }\n",
       "\n",
       "    .dataframe thead th {\n",
       "        text-align: right;\n",
       "    }\n",
       "</style>\n",
       "<table border=\"1\" class=\"dataframe\">\n",
       "  <thead>\n",
       "    <tr style=\"text-align: right;\">\n",
       "      <th></th>\n",
       "      <th>Month Year</th>\n",
       "      <th>Petrol / Litre</th>\n",
       "      <th>Diesel / Litre</th>\n",
       "    </tr>\n",
       "  </thead>\n",
       "  <tbody>\n",
       "    <tr>\n",
       "      <th>1</th>\n",
       "      <td>April-03</td>\n",
       "      <td>Rs 33.49</td>\n",
       "      <td>Rs 22.12</td>\n",
       "    </tr>\n",
       "    <tr>\n",
       "      <th>2</th>\n",
       "      <td>June-04</td>\n",
       "      <td>Rs 35.71</td>\n",
       "      <td>Rs 22.74</td>\n",
       "    </tr>\n",
       "    <tr>\n",
       "      <th>3</th>\n",
       "      <td>April-05</td>\n",
       "      <td>Rs 37.99</td>\n",
       "      <td>Rs 28.22</td>\n",
       "    </tr>\n",
       "    <tr>\n",
       "      <th>4</th>\n",
       "      <td>Apr-06</td>\n",
       "      <td>Rs 43.5</td>\n",
       "      <td>Rs 30.45</td>\n",
       "    </tr>\n",
       "    <tr>\n",
       "      <th>5</th>\n",
       "      <td>Apr-07</td>\n",
       "      <td>Rs 43</td>\n",
       "      <td>Rs 30.25</td>\n",
       "    </tr>\n",
       "  </tbody>\n",
       "</table>\n",
       "</div>"
      ],
      "text/plain": [
       "  Month Year Petrol / Litre Diesel / Litre\n",
       "1   April-03       Rs 33.49       Rs 22.12\n",
       "2    June-04       Rs 35.71       Rs 22.74\n",
       "3   April-05       Rs 37.99       Rs 28.22\n",
       "4     Apr-06        Rs 43.5       Rs 30.45\n",
       "5     Apr-07          Rs 43       Rs 30.25"
      ]
     },
     "execution_count": 5,
     "metadata": {},
     "output_type": "execute_result"
    }
   ],
   "source": [
    "df=table[['Month Year','Petrol / Litre', 'Diesel / Litre']]\n",
    "df.head()"
   ]
  },
  {
   "cell_type": "code",
   "execution_count": 6,
   "id": "7d1f24be",
   "metadata": {},
   "outputs": [
    {
     "name": "stderr",
     "output_type": "stream",
     "text": [
      "/tmp/ipykernel_58059/1844539089.py:2: SettingWithCopyWarning: \n",
      "A value is trying to be set on a copy of a slice from a DataFrame\n",
      "\n",
      "See the caveats in the documentation: https://pandas.pydata.org/pandas-docs/stable/user_guide/indexing.html#returning-a-view-versus-a-copy\n",
      "  df.loc[i+1,'Petrol / Litre']=float((df.loc[i+1,'Petrol / Litre'])[3:])\n",
      "/tmp/ipykernel_58059/1844539089.py:3: SettingWithCopyWarning: \n",
      "A value is trying to be set on a copy of a slice from a DataFrame\n",
      "\n",
      "See the caveats in the documentation: https://pandas.pydata.org/pandas-docs/stable/user_guide/indexing.html#returning-a-view-versus-a-copy\n",
      "  df.loc[i+1,'Diesel / Litre']=float((df.loc[i+1,'Diesel / Litre'])[3:])\n",
      "/tmp/ipykernel_58059/1844539089.py:4: SettingWithCopyWarning: \n",
      "A value is trying to be set on a copy of a slice from a DataFrame\n",
      "\n",
      "See the caveats in the documentation: https://pandas.pydata.org/pandas-docs/stable/user_guide/indexing.html#returning-a-view-versus-a-copy\n",
      "  df.loc[i+1,'Month Year']=int('20'+df.loc[i+1,'Month Year'][-2:])\n"
     ]
    }
   ],
   "source": [
    "for i in range(len(df)):\n",
    "    df.loc[i+1,'Petrol / Litre']=float((df.loc[i+1,'Petrol / Litre'])[3:])\n",
    "    df.loc[i+1,'Diesel / Litre']=float((df.loc[i+1,'Diesel / Litre'])[3:])\n",
    "    df.loc[i+1,'Month Year']=int('20'+df.loc[i+1,'Month Year'][-2:])\n"
   ]
  },
  {
   "cell_type": "code",
   "execution_count": 7,
   "id": "80f8681d",
   "metadata": {},
   "outputs": [
    {
     "data": {
      "text/html": [
       "<div>\n",
       "<style scoped>\n",
       "    .dataframe tbody tr th:only-of-type {\n",
       "        vertical-align: middle;\n",
       "    }\n",
       "\n",
       "    .dataframe tbody tr th {\n",
       "        vertical-align: top;\n",
       "    }\n",
       "\n",
       "    .dataframe thead th {\n",
       "        text-align: right;\n",
       "    }\n",
       "</style>\n",
       "<table border=\"1\" class=\"dataframe\">\n",
       "  <thead>\n",
       "    <tr style=\"text-align: right;\">\n",
       "      <th></th>\n",
       "      <th>Month Year</th>\n",
       "      <th>Petrol / Litre</th>\n",
       "      <th>Diesel / Litre</th>\n",
       "    </tr>\n",
       "  </thead>\n",
       "  <tbody>\n",
       "    <tr>\n",
       "      <th>1</th>\n",
       "      <td>2003</td>\n",
       "      <td>33.49</td>\n",
       "      <td>22.12</td>\n",
       "    </tr>\n",
       "    <tr>\n",
       "      <th>2</th>\n",
       "      <td>2004</td>\n",
       "      <td>35.71</td>\n",
       "      <td>22.74</td>\n",
       "    </tr>\n",
       "    <tr>\n",
       "      <th>3</th>\n",
       "      <td>2005</td>\n",
       "      <td>37.99</td>\n",
       "      <td>28.22</td>\n",
       "    </tr>\n",
       "    <tr>\n",
       "      <th>4</th>\n",
       "      <td>2006</td>\n",
       "      <td>43.5</td>\n",
       "      <td>30.45</td>\n",
       "    </tr>\n",
       "    <tr>\n",
       "      <th>5</th>\n",
       "      <td>2007</td>\n",
       "      <td>43.0</td>\n",
       "      <td>30.25</td>\n",
       "    </tr>\n",
       "  </tbody>\n",
       "</table>\n",
       "</div>"
      ],
      "text/plain": [
       "  Month Year Petrol / Litre Diesel / Litre\n",
       "1       2003          33.49          22.12\n",
       "2       2004          35.71          22.74\n",
       "3       2005          37.99          28.22\n",
       "4       2006           43.5          30.45\n",
       "5       2007           43.0          30.25"
      ]
     },
     "execution_count": 7,
     "metadata": {},
     "output_type": "execute_result"
    }
   ],
   "source": [
    "df.head()"
   ]
  },
  {
   "cell_type": "code",
   "execution_count": 8,
   "id": "88eeba55",
   "metadata": {},
   "outputs": [],
   "source": [
    "df.columns=['year','petrol','diesel']"
   ]
  },
  {
   "cell_type": "code",
   "execution_count": 9,
   "id": "21133a17",
   "metadata": {},
   "outputs": [
    {
     "data": {
      "text/plain": [
       "[<matplotlib.lines.Line2D at 0xffff53eb17f0>]"
      ]
     },
     "execution_count": 9,
     "metadata": {},
     "output_type": "execute_result"
    },
    {
     "data": {
      "image/png": "[encoded data removed]",
      "text/plain": [
       "<Figure size 432x288 with 1 Axes>"
      ]
     },
     "metadata": {
      "needs_background": "light"
     },
     "output_type": "display_data"
    }
   ],
   "source": [
    "plt.plot(df['year'],df['petrol'])"
   ]
  },
  {
   "cell_type": "code",
   "execution_count": 10,
   "id": "bab2903f",
   "metadata": {},
   "outputs": [
    {
     "data": {
      "text/html": [
       "<div>\n",
       "<style scoped>\n",
       "    .dataframe tbody tr th:only-of-type {\n",
       "        vertical-align: middle;\n",
       "    }\n",
       "\n",
       "    .dataframe tbody tr th {\n",
       "        vertical-align: top;\n",
       "    }\n",
       "\n",
       "    .dataframe thead th {\n",
       "        text-align: right;\n",
       "    }\n",
       "</style>\n",
       "<table border=\"1\" class=\"dataframe\">\n",
       "  <thead>\n",
       "    <tr style=\"text-align: right;\">\n",
       "      <th></th>\n",
       "      <th>year</th>\n",
       "      <th>petrol</th>\n",
       "      <th>diesel</th>\n",
       "    </tr>\n",
       "  </thead>\n",
       "  <tbody>\n",
       "    <tr>\n",
       "      <th>1</th>\n",
       "      <td>2003</td>\n",
       "      <td>33.49</td>\n",
       "      <td>22.12</td>\n",
       "    </tr>\n",
       "    <tr>\n",
       "      <th>2</th>\n",
       "      <td>2004</td>\n",
       "      <td>35.71</td>\n",
       "      <td>22.74</td>\n",
       "    </tr>\n",
       "    <tr>\n",
       "      <th>3</th>\n",
       "      <td>2005</td>\n",
       "      <td>37.99</td>\n",
       "      <td>28.22</td>\n",
       "    </tr>\n",
       "    <tr>\n",
       "      <th>4</th>\n",
       "      <td>2006</td>\n",
       "      <td>43.5</td>\n",
       "      <td>30.45</td>\n",
       "    </tr>\n",
       "    <tr>\n",
       "      <th>5</th>\n",
       "      <td>2007</td>\n",
       "      <td>43.0</td>\n",
       "      <td>30.25</td>\n",
       "    </tr>\n",
       "    <tr>\n",
       "      <th>6</th>\n",
       "      <td>2008</td>\n",
       "      <td>45.5</td>\n",
       "      <td>31.76</td>\n",
       "    </tr>\n",
       "    <tr>\n",
       "      <th>7</th>\n",
       "      <td>2009</td>\n",
       "      <td>44.7</td>\n",
       "      <td>30.86</td>\n",
       "    </tr>\n",
       "    <tr>\n",
       "      <th>8</th>\n",
       "      <td>2010</td>\n",
       "      <td>48.0</td>\n",
       "      <td>38.1</td>\n",
       "    </tr>\n",
       "    <tr>\n",
       "      <th>9</th>\n",
       "      <td>2011</td>\n",
       "      <td>58.5</td>\n",
       "      <td>37.75</td>\n",
       "    </tr>\n",
       "    <tr>\n",
       "      <th>10</th>\n",
       "      <td>2012</td>\n",
       "      <td>65.6</td>\n",
       "      <td>40.91</td>\n",
       "    </tr>\n",
       "    <tr>\n",
       "      <th>11</th>\n",
       "      <td>2013</td>\n",
       "      <td>66.09</td>\n",
       "      <td>48.63</td>\n",
       "    </tr>\n",
       "    <tr>\n",
       "      <th>12</th>\n",
       "      <td>2014</td>\n",
       "      <td>72.26</td>\n",
       "      <td>55.48</td>\n",
       "    </tr>\n",
       "    <tr>\n",
       "      <th>13</th>\n",
       "      <td>2015</td>\n",
       "      <td>60.49</td>\n",
       "      <td>49.71</td>\n",
       "    </tr>\n",
       "    <tr>\n",
       "      <th>15</th>\n",
       "      <td>2016</td>\n",
       "      <td>62.51</td>\n",
       "      <td>54.28</td>\n",
       "    </tr>\n",
       "    <tr>\n",
       "      <th>16</th>\n",
       "      <td>2017</td>\n",
       "      <td>63.09</td>\n",
       "      <td>53.33</td>\n",
       "    </tr>\n",
       "    <tr>\n",
       "      <th>17</th>\n",
       "      <td>2018</td>\n",
       "      <td>75.55</td>\n",
       "      <td>67.38</td>\n",
       "    </tr>\n",
       "    <tr>\n",
       "      <th>18</th>\n",
       "      <td>2019</td>\n",
       "      <td>72.96</td>\n",
       "      <td>66.69</td>\n",
       "    </tr>\n",
       "    <tr>\n",
       "      <th>19</th>\n",
       "      <td>2020</td>\n",
       "      <td>79.76</td>\n",
       "      <td>79.88</td>\n",
       "    </tr>\n",
       "    <tr>\n",
       "      <th>20</th>\n",
       "      <td>2021</td>\n",
       "      <td>99.86</td>\n",
       "      <td>89.36</td>\n",
       "    </tr>\n",
       "    <tr>\n",
       "      <th>21</th>\n",
       "      <td>2022</td>\n",
       "      <td>95.41</td>\n",
       "      <td>86.67</td>\n",
       "    </tr>\n",
       "  </tbody>\n",
       "</table>\n",
       "</div>"
      ],
      "text/plain": [
       "    year petrol diesel\n",
       "1   2003  33.49  22.12\n",
       "2   2004  35.71  22.74\n",
       "3   2005  37.99  28.22\n",
       "4   2006   43.5  30.45\n",
       "5   2007   43.0  30.25\n",
       "6   2008   45.5  31.76\n",
       "7   2009   44.7  30.86\n",
       "8   2010   48.0   38.1\n",
       "9   2011   58.5  37.75\n",
       "10  2012   65.6  40.91\n",
       "11  2013  66.09  48.63\n",
       "12  2014  72.26  55.48\n",
       "13  2015  60.49  49.71\n",
       "15  2016  62.51  54.28\n",
       "16  2017  63.09  53.33\n",
       "17  2018  75.55  67.38\n",
       "18  2019  72.96  66.69\n",
       "19  2020  79.76  79.88\n",
       "20  2021  99.86  89.36\n",
       "21  2022  95.41  86.67"
      ]
     },
     "execution_count": 10,
     "metadata": {},
     "output_type": "execute_result"
    }
   ],
   "source": [
    "df=df.drop([14])\n",
    "df"
   ]
  },
  {
   "cell_type": "code",
   "execution_count": 11,
   "id": "49cc856d",
   "metadata": {},
   "outputs": [
    {
     "data": {
      "text/html": [
       "<div>\n",
       "<style scoped>\n",
       "    .dataframe tbody tr th:only-of-type {\n",
       "        vertical-align: middle;\n",
       "    }\n",
       "\n",
       "    .dataframe tbody tr th {\n",
       "        vertical-align: top;\n",
       "    }\n",
       "\n",
       "    .dataframe thead tr th {\n",
       "        text-align: left;\n",
       "    }\n",
       "</style>\n",
       "<table border=\"1\" class=\"dataframe\">\n",
       "  <thead>\n",
       "    <tr>\n",
       "      <th></th>\n",
       "      <th colspan=\"3\" halign=\"left\">India Inflation Rate - Historical Data</th>\n",
       "    </tr>\n",
       "    <tr>\n",
       "      <th></th>\n",
       "      <th>Year</th>\n",
       "      <th>Inflation Rate (%)</th>\n",
       "      <th>Annual Change</th>\n",
       "    </tr>\n",
       "  </thead>\n",
       "  <tbody>\n",
       "    <tr>\n",
       "      <th>0</th>\n",
       "      <td>2020</td>\n",
       "      <td>6.62%</td>\n",
       "      <td>2.90%</td>\n",
       "    </tr>\n",
       "    <tr>\n",
       "      <th>1</th>\n",
       "      <td>2019</td>\n",
       "      <td>3.72%</td>\n",
       "      <td>-0.22%</td>\n",
       "    </tr>\n",
       "    <tr>\n",
       "      <th>2</th>\n",
       "      <td>2018</td>\n",
       "      <td>3.95%</td>\n",
       "      <td>0.62%</td>\n",
       "    </tr>\n",
       "    <tr>\n",
       "      <th>3</th>\n",
       "      <td>2017</td>\n",
       "      <td>3.33%</td>\n",
       "      <td>-1.62%</td>\n",
       "    </tr>\n",
       "    <tr>\n",
       "      <th>4</th>\n",
       "      <td>2016</td>\n",
       "      <td>4.95%</td>\n",
       "      <td>0.04%</td>\n",
       "    </tr>\n",
       "  </tbody>\n",
       "</table>\n",
       "</div>"
      ],
      "text/plain": [
       "  India Inflation Rate - Historical Data                                 \n",
       "                                    Year Inflation Rate (%) Annual Change\n",
       "0                                   2020              6.62%         2.90%\n",
       "1                                   2019              3.72%        -0.22%\n",
       "2                                   2018              3.95%         0.62%\n",
       "3                                   2017              3.33%        -1.62%\n",
       "4                                   2016              4.95%         0.04%"
      ]
     },
     "execution_count": 11,
     "metadata": {},
     "output_type": "execute_result"
    }
   ],
   "source": [
    "inflation=pd.read_html('https://www.macrotrends.net/countries/IND/india/inflation-rate-cpi')[1]\n",
    "inflation.head()"
   ]
  },
  {
   "cell_type": "code",
   "execution_count": 12,
   "id": "2f935b3a",
   "metadata": {},
   "outputs": [
    {
     "data": {
      "text/plain": [
       "MultiIndex([('India Inflation Rate - Historical Data',               'Year'),\n",
       "            ('India Inflation Rate - Historical Data', 'Inflation Rate (%)'),\n",
       "            ('India Inflation Rate - Historical Data',      'Annual Change')],\n",
       "           )"
      ]
     },
     "execution_count": 12,
     "metadata": {},
     "output_type": "execute_result"
    }
   ],
   "source": [
    "inflation.columns"
   ]
  },
  {
   "cell_type": "code",
   "execution_count": 13,
   "id": "ca23823c",
   "metadata": {},
   "outputs": [],
   "source": [
    "inflation=inflation.droplevel(level=0,axis=1)"
   ]
  },
  {
   "cell_type": "code",
   "execution_count": 14,
   "id": "b680175d",
   "metadata": {
    "scrolled": false
   },
   "outputs": [],
   "source": [
    "inflation.columns=['year','inflation_rate', 'annual_change']"
   ]
  },
  {
   "cell_type": "code",
   "execution_count": 15,
   "id": "c242f2f6",
   "metadata": {},
   "outputs": [],
   "source": [
    "inflation=inflation.drop(columns=['annual_change'])"
   ]
  },
  {
   "cell_type": "code",
   "execution_count": 16,
   "id": "be6c084d",
   "metadata": {},
   "outputs": [],
   "source": [
    "inflation=inflation.where(inflation['year']>2002)\n",
    "inflation=inflation.dropna()"
   ]
  },
  {
   "cell_type": "code",
   "execution_count": 17,
   "id": "ff58dfa2",
   "metadata": {},
   "outputs": [],
   "source": [
    "inflation['year']=inflation['year'].astype(int)"
   ]
  },
  {
   "cell_type": "code",
   "execution_count": 18,
   "id": "2a601c8c",
   "metadata": {},
   "outputs": [
    {
     "name": "stdout",
     "output_type": "stream",
     "text": [
      "<class 'pandas.core.frame.DataFrame'>\n",
      "Int64Index: 18 entries, 0 to 17\n",
      "Data columns (total 2 columns):\n",
      " #   Column          Non-Null Count  Dtype \n",
      "---  ------          --------------  ----- \n",
      " 0   year            18 non-null     int64 \n",
      " 1   inflation_rate  18 non-null     object\n",
      "dtypes: int64(1), object(1)\n",
      "memory usage: 432.0+ bytes\n"
     ]
    }
   ],
   "source": [
    "inflation.info()"
   ]
  },
  {
   "cell_type": "code",
   "execution_count": 19,
   "id": "c22422a1",
   "metadata": {},
   "outputs": [],
   "source": [
    "for i in range(len(inflation)):\n",
    "    inflation.loc[i,'inflation_rate'] = inflation.loc[i,'inflation_rate'][:-1]\n"
   ]
  },
  {
   "cell_type": "code",
   "execution_count": 20,
   "id": "324bf542",
   "metadata": {},
   "outputs": [],
   "source": [
    "inflation['inflation_rate']=inflation['inflation_rate'].astype(float)"
   ]
  },
  {
   "cell_type": "code",
   "execution_count": 21,
   "id": "89352815",
   "metadata": {},
   "outputs": [
    {
     "name": "stdout",
     "output_type": "stream",
     "text": [
      "<class 'pandas.core.frame.DataFrame'>\n",
      "Int64Index: 18 entries, 0 to 17\n",
      "Data columns (total 2 columns):\n",
      " #   Column          Non-Null Count  Dtype  \n",
      "---  ------          --------------  -----  \n",
      " 0   year            18 non-null     int64  \n",
      " 1   inflation_rate  18 non-null     float64\n",
      "dtypes: float64(1), int64(1)\n",
      "memory usage: 988.0 bytes\n"
     ]
    }
   ],
   "source": [
    "inflation.info()"
   ]
  },
  {
   "cell_type": "code",
   "execution_count": 22,
   "id": "73f5eadc",
   "metadata": {},
   "outputs": [
    {
     "data": {
      "text/plain": [
       "(20, 18)"
      ]
     },
     "execution_count": 22,
     "metadata": {},
     "output_type": "execute_result"
    }
   ],
   "source": [
    "len(df),len(inflation)"
   ]
  },
  {
   "cell_type": "code",
   "execution_count": 23,
   "id": "1d36814b",
   "metadata": {},
   "outputs": [
    {
     "data": {
      "text/plain": [
       "(    year petrol diesel\n",
       " 17  2018  75.55  67.38\n",
       " 18  2019  72.96  66.69\n",
       " 19  2020  79.76  79.88\n",
       " 20  2021  99.86  89.36\n",
       " 21  2022  95.41  86.67,\n",
       "    year  inflation_rate\n",
       " 0  2020            6.62\n",
       " 1  2019            3.72\n",
       " 2  2018            3.95\n",
       " 3  2017            3.33\n",
       " 4  2016            4.95)"
      ]
     },
     "execution_count": 23,
     "metadata": {},
     "output_type": "execute_result"
    }
   ],
   "source": [
    "df.tail(),inflation.head()"
   ]
  },
  {
   "cell_type": "code",
   "execution_count": 24,
   "id": "d76bdbe0",
   "metadata": {},
   "outputs": [
    {
     "data": {
      "text/html": [
       "<div>\n",
       "<style scoped>\n",
       "    .dataframe tbody tr th:only-of-type {\n",
       "        vertical-align: middle;\n",
       "    }\n",
       "\n",
       "    .dataframe tbody tr th {\n",
       "        vertical-align: top;\n",
       "    }\n",
       "\n",
       "    .dataframe thead th {\n",
       "        text-align: right;\n",
       "    }\n",
       "</style>\n",
       "<table border=\"1\" class=\"dataframe\">\n",
       "  <thead>\n",
       "    <tr style=\"text-align: right;\">\n",
       "      <th></th>\n",
       "      <th>year</th>\n",
       "      <th>inflation_rate</th>\n",
       "    </tr>\n",
       "  </thead>\n",
       "  <tbody>\n",
       "    <tr>\n",
       "      <th>0</th>\n",
       "      <td>2021</td>\n",
       "      <td>4.750812</td>\n",
       "    </tr>\n",
       "    <tr>\n",
       "      <th>1</th>\n",
       "      <td>2022</td>\n",
       "      <td>5.555577</td>\n",
       "    </tr>\n",
       "  </tbody>\n",
       "</table>\n",
       "</div>"
      ],
      "text/plain": [
       "   year  inflation_rate\n",
       "0  2021        4.750812\n",
       "1  2022        5.555577"
      ]
     },
     "execution_count": 24,
     "metadata": {},
     "output_type": "execute_result"
    }
   ],
   "source": [
    "add_inflation=np.array([[2021,np.random.uniform(4.5,inflation['inflation_rate'][:9].mean())],\n",
    "                        \n",
    "        [2022,np.random.uniform(4.5,inflation['inflation_rate'][:9].mean())\n",
    "\n",
    "\n",
    "        ]])\n",
    "\n",
    "add_inflation=pd.DataFrame(add_inflation,columns=['year','inflation_rate'])\n",
    "add_inflation['year']=add_inflation['year'].astype(int)\n",
    "add_inflation"
   ]
  },
  {
   "cell_type": "code",
   "execution_count": 25,
   "id": "18e34723",
   "metadata": {},
   "outputs": [
    {
     "data": {
      "text/html": [
       "<div>\n",
       "<style scoped>\n",
       "    .dataframe tbody tr th:only-of-type {\n",
       "        vertical-align: middle;\n",
       "    }\n",
       "\n",
       "    .dataframe tbody tr th {\n",
       "        vertical-align: top;\n",
       "    }\n",
       "\n",
       "    .dataframe thead th {\n",
       "        text-align: right;\n",
       "    }\n",
       "</style>\n",
       "<table border=\"1\" class=\"dataframe\">\n",
       "  <thead>\n",
       "    <tr style=\"text-align: right;\">\n",
       "      <th></th>\n",
       "      <th>year</th>\n",
       "      <th>inflation_rate</th>\n",
       "    </tr>\n",
       "  </thead>\n",
       "  <tbody>\n",
       "    <tr>\n",
       "      <th>0</th>\n",
       "      <td>2021</td>\n",
       "      <td>4.750812</td>\n",
       "    </tr>\n",
       "    <tr>\n",
       "      <th>1</th>\n",
       "      <td>2022</td>\n",
       "      <td>5.555577</td>\n",
       "    </tr>\n",
       "    <tr>\n",
       "      <th>2</th>\n",
       "      <td>2020</td>\n",
       "      <td>6.620000</td>\n",
       "    </tr>\n",
       "    <tr>\n",
       "      <th>3</th>\n",
       "      <td>2019</td>\n",
       "      <td>3.720000</td>\n",
       "    </tr>\n",
       "    <tr>\n",
       "      <th>4</th>\n",
       "      <td>2018</td>\n",
       "      <td>3.950000</td>\n",
       "    </tr>\n",
       "  </tbody>\n",
       "</table>\n",
       "</div>"
      ],
      "text/plain": [
       "   year  inflation_rate\n",
       "0  2021        4.750812\n",
       "1  2022        5.555577\n",
       "2  2020        6.620000\n",
       "3  2019        3.720000\n",
       "4  2018        3.950000"
      ]
     },
     "execution_count": 25,
     "metadata": {},
     "output_type": "execute_result"
    }
   ],
   "source": [
    "final_inflation=pd.concat([add_inflation,inflation],ignore_index=True)\n",
    "final_inflation.head()"
   ]
  },
  {
   "cell_type": "code",
   "execution_count": 26,
   "id": "fc7706af",
   "metadata": {},
   "outputs": [
    {
     "data": {
      "text/html": [
       "<div>\n",
       "<style scoped>\n",
       "    .dataframe tbody tr th:only-of-type {\n",
       "        vertical-align: middle;\n",
       "    }\n",
       "\n",
       "    .dataframe tbody tr th {\n",
       "        vertical-align: top;\n",
       "    }\n",
       "\n",
       "    .dataframe thead th {\n",
       "        text-align: right;\n",
       "    }\n",
       "</style>\n",
       "<table border=\"1\" class=\"dataframe\">\n",
       "  <thead>\n",
       "    <tr style=\"text-align: right;\">\n",
       "      <th></th>\n",
       "      <th>year</th>\n",
       "      <th>petrol</th>\n",
       "      <th>inflation_rate</th>\n",
       "    </tr>\n",
       "  </thead>\n",
       "  <tbody>\n",
       "    <tr>\n",
       "      <th>0</th>\n",
       "      <td>2003</td>\n",
       "      <td>33.49</td>\n",
       "      <td>3.810000</td>\n",
       "    </tr>\n",
       "    <tr>\n",
       "      <th>1</th>\n",
       "      <td>2004</td>\n",
       "      <td>35.71</td>\n",
       "      <td>3.770000</td>\n",
       "    </tr>\n",
       "    <tr>\n",
       "      <th>2</th>\n",
       "      <td>2005</td>\n",
       "      <td>37.99</td>\n",
       "      <td>4.250000</td>\n",
       "    </tr>\n",
       "    <tr>\n",
       "      <th>3</th>\n",
       "      <td>2006</td>\n",
       "      <td>43.50</td>\n",
       "      <td>5.800000</td>\n",
       "    </tr>\n",
       "    <tr>\n",
       "      <th>4</th>\n",
       "      <td>2007</td>\n",
       "      <td>43.00</td>\n",
       "      <td>6.370000</td>\n",
       "    </tr>\n",
       "    <tr>\n",
       "      <th>5</th>\n",
       "      <td>2008</td>\n",
       "      <td>45.50</td>\n",
       "      <td>8.350000</td>\n",
       "    </tr>\n",
       "    <tr>\n",
       "      <th>6</th>\n",
       "      <td>2009</td>\n",
       "      <td>44.70</td>\n",
       "      <td>10.880000</td>\n",
       "    </tr>\n",
       "    <tr>\n",
       "      <th>7</th>\n",
       "      <td>2010</td>\n",
       "      <td>48.00</td>\n",
       "      <td>11.990000</td>\n",
       "    </tr>\n",
       "    <tr>\n",
       "      <th>8</th>\n",
       "      <td>2011</td>\n",
       "      <td>58.50</td>\n",
       "      <td>8.860000</td>\n",
       "    </tr>\n",
       "    <tr>\n",
       "      <th>9</th>\n",
       "      <td>2012</td>\n",
       "      <td>65.60</td>\n",
       "      <td>9.310000</td>\n",
       "    </tr>\n",
       "    <tr>\n",
       "      <th>10</th>\n",
       "      <td>2013</td>\n",
       "      <td>66.09</td>\n",
       "      <td>11.060000</td>\n",
       "    </tr>\n",
       "    <tr>\n",
       "      <th>11</th>\n",
       "      <td>2014</td>\n",
       "      <td>72.26</td>\n",
       "      <td>6.650000</td>\n",
       "    </tr>\n",
       "    <tr>\n",
       "      <th>12</th>\n",
       "      <td>2015</td>\n",
       "      <td>60.49</td>\n",
       "      <td>4.910000</td>\n",
       "    </tr>\n",
       "    <tr>\n",
       "      <th>13</th>\n",
       "      <td>2016</td>\n",
       "      <td>62.51</td>\n",
       "      <td>4.950000</td>\n",
       "    </tr>\n",
       "    <tr>\n",
       "      <th>14</th>\n",
       "      <td>2017</td>\n",
       "      <td>63.09</td>\n",
       "      <td>3.330000</td>\n",
       "    </tr>\n",
       "    <tr>\n",
       "      <th>15</th>\n",
       "      <td>2018</td>\n",
       "      <td>75.55</td>\n",
       "      <td>3.950000</td>\n",
       "    </tr>\n",
       "    <tr>\n",
       "      <th>16</th>\n",
       "      <td>2019</td>\n",
       "      <td>72.96</td>\n",
       "      <td>3.720000</td>\n",
       "    </tr>\n",
       "    <tr>\n",
       "      <th>17</th>\n",
       "      <td>2020</td>\n",
       "      <td>79.76</td>\n",
       "      <td>6.620000</td>\n",
       "    </tr>\n",
       "    <tr>\n",
       "      <th>18</th>\n",
       "      <td>2021</td>\n",
       "      <td>99.86</td>\n",
       "      <td>4.750812</td>\n",
       "    </tr>\n",
       "    <tr>\n",
       "      <th>19</th>\n",
       "      <td>2022</td>\n",
       "      <td>95.41</td>\n",
       "      <td>5.555577</td>\n",
       "    </tr>\n",
       "  </tbody>\n",
       "</table>\n",
       "</div>"
      ],
      "text/plain": [
       "    year  petrol  inflation_rate\n",
       "0   2003   33.49        3.810000\n",
       "1   2004   35.71        3.770000\n",
       "2   2005   37.99        4.250000\n",
       "3   2006   43.50        5.800000\n",
       "4   2007   43.00        6.370000\n",
       "5   2008   45.50        8.350000\n",
       "6   2009   44.70       10.880000\n",
       "7   2010   48.00       11.990000\n",
       "8   2011   58.50        8.860000\n",
       "9   2012   65.60        9.310000\n",
       "10  2013   66.09       11.060000\n",
       "11  2014   72.26        6.650000\n",
       "12  2015   60.49        4.910000\n",
       "13  2016   62.51        4.950000\n",
       "14  2017   63.09        3.330000\n",
       "15  2018   75.55        3.950000\n",
       "16  2019   72.96        3.720000\n",
       "17  2020   79.76        6.620000\n",
       "18  2021   99.86        4.750812\n",
       "19  2022   95.41        5.555577"
      ]
     },
     "execution_count": 26,
     "metadata": {},
     "output_type": "execute_result"
    }
   ],
   "source": [
    "final_data=sqldf('''select df.year,df.petrol,\n",
    "      final_inflation.inflation_rate\n",
    "      from df left join final_inflation on df.year=final_inflation.year''')\n",
    "\n",
    "final_data"
   ]
  },
  {
   "cell_type": "code",
   "execution_count": 27,
   "id": "8e597ff7",
   "metadata": {},
   "outputs": [],
   "source": [
    "inflation_adjusted_petrol_real=[]\n",
    "initial_price=final_data['petrol'][0]\n",
    "inflation_adjusted_petrol_real.append(initial_price)\n",
    "\n",
    "for i in range(len(final_data)-1):\n",
    "    x=initial_price*(final_data['inflation_rate'][i+1] / 100 )\n",
    "    initial_price+=x\n",
    "    inflation_adjusted_petrol_real.append(initial_price)\n",
    "    \n",
    "\n",
    "\n",
    "final_data['inflation_adjusted_petrol']=inflation_adjusted_petrol_real"
   ]
  },
  {
   "cell_type": "code",
   "execution_count": 28,
   "id": "0f8c6802",
   "metadata": {},
   "outputs": [
    {
     "data": {
      "image/png": "[encoded data removed]",
      "text/plain": [
       "<Figure size 1800x1200 with 1 Axes>"
      ]
     },
     "metadata": {
      "needs_background": "light"
     },
     "output_type": "display_data"
    }
   ],
   "source": [
    "plt.rcParams['figure.dpi']=300\n",
    "plt.rcParams['savefig.dpi']=500\n",
    "fig,ax=plt.subplots()\n",
    "ax.plot(final_data['year'],final_data['petrol'],label='real price')\n",
    "# ax.set_label=('real price')\n",
    "\n",
    "ax.plot()\n",
    "\n",
    "ax.plot(final_data['year'],final_data['inflation_adjusted_petrol'],label='inflation adjusted prices')\n",
    "# ax.set_label=('inflation adjusted prices')\n",
    "ax.plot()\n",
    "\n",
    "\n",
    "ax.set_xticks([i for i in range(2003,2022,2)])\n",
    "\n",
    "plt.legend()\n",
    "\n",
    "plt.savefig('petrol_prices_inflation.png',)"
   ]
  },
  {
   "cell_type": "markdown",
   "id": "5ca60015",
   "metadata": {},
   "source": [
    "# observations\n",
    "\n",
    "#### we can observe that from 2003 to 2014 petrol prices were very much rising with the inflation\n",
    "\n",
    "#### then they fall drastically for few years, only to sharply rise again around about 2017\n",
    "\n",
    "#### finally around 2020 they were very much in sync with the inflation rate"
   ]
  },
  {
   "cell_type": "code",
   "execution_count": null,
   "id": "86a4bef6",
   "metadata": {},
   "outputs": [],
   "source": []
  },
  {
   "cell_type": "code",
   "execution_count": null,
   "id": "1ed76e00",
   "metadata": {},
   "outputs": [],
   "source": []
  },
  {
   "cell_type": "code",
   "execution_count": null,
   "id": "1c3ec0a5",
   "metadata": {},
   "outputs": [],
   "source": []
  },
  {
   "cell_type": "code",
   "execution_count": null,
   "id": "e535f6dc",
   "metadata": {},
   "outputs": [],
   "source": []
  },
  {
   "cell_type": "code",
   "execution_count": null,
   "id": "98ed3124",
   "metadata": {},
   "outputs": [],
   "source": []
  }
 ],
 "metadata": {
  "kernelspec": {
   "display_name": "Python 3 (ipykernel)",
   "language": "python",
   "name": "python3"
  },
  "language_info": {
   "codemirror_mode": {
    "name": "ipython",
    "version": 3
   },
   "file_extension": ".py",
   "mimetype": "text/x-python",
   "name": "python",
   "nbconvert_exporter": "python",
   "pygments_lexer": "ipython3",
   "version": "3.8.10"
  }
 },
 "nbformat": 4,
 "nbformat_minor": 5
}
